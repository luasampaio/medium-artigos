{
  "nbformat": 4,
  "nbformat_minor": 0,
  "metadata": {
    "colab": {
      "provenance": [],
      "authorship_tag": "ABX9TyN9CUYdXmD515W73fcbyB+V",
      "include_colab_link": true
    },
    "kernelspec": {
      "name": "python3",
      "display_name": "Python 3"
    },
    "language_info": {
      "name": "python"
    }
  },
  "cells": [
    {
      "cell_type": "markdown",
      "metadata": {
        "id": "view-in-github",
        "colab_type": "text"
      },
      "source": [
        "<a href=\"https://colab.research.google.com/github/luasampaio/medium-artigos/blob/main/Decoradoras.ipynb\" target=\"_parent\"><img src=\"https://colab.research.google.com/assets/colab-badge.svg\" alt=\"Open In Colab\"/></a>"
      ]
    },
    {
      "cell_type": "code",
      "source": [],
      "metadata": {
        "id": "GSm9muINH-QD"
      },
      "execution_count": null,
      "outputs": []
    },
    {
      "source": [
        "def my_decorator(func):\n",
        "    def wrapper():\n",
        "        print(\"Algo está acontecendo antes da função ser chamada.\")\n",
        "        func()\n",
        "        print(\"Algo está acontecendo depois que a função é chamada.\")\n",
        "    return wrapper\n",
        "\n",
        "@my_decorator\n",
        "def say_hello():\n",
        "    print(\"Olá!\")\n",
        "\n",
        "# Uso\n",
        "say_hello() # Removed extra space before the function call\n",
        "# Saída:\n",
        "# Algo está acontecendo antes da função ser chamada.\n",
        "# Olá!\n",
        "# Algo está acontecendo depois que a função é chamada."
      ],
      "cell_type": "code",
      "metadata": {
        "colab": {
          "base_uri": "https://localhost:8080/"
        },
        "id": "0mrxQR8FH_gR",
        "outputId": "ff0ba162-94c7-4ba2-bf70-6524d6bf5dc4"
      },
      "execution_count": null,
      "outputs": [
        {
          "output_type": "stream",
          "name": "stdout",
          "text": [
            "Algo está acontecendo antes da função ser chamada.\n",
            "Olá!\n",
            "Algo está acontecendo depois que a função é chamada.\n"
          ]
        }
      ]
    },
    {
      "cell_type": "code",
      "source": [
        "frutas = [ \"maçã\" , \"banana\" , \"cereja\" ]\n",
        "for  índice , fruta in enumerate(frutas, start= 1 ):\n",
        "    print( índice , fruta)"
      ],
      "metadata": {
        "colab": {
          "base_uri": "https://localhost:8080/"
        },
        "id": "TdkljeOaINQB",
        "outputId": "52419911-8234-4f72-f96a-de6bd877497f"
      },
      "execution_count": null,
      "outputs": [
        {
          "output_type": "stream",
          "name": "stdout",
          "text": [
            "1 maçã\n",
            "2 banana\n",
            "3 cereja\n"
          ]
        }
      ]
    },
    {
      "cell_type": "code",
      "source": [],
      "metadata": {
        "id": "GlNEX1bwMffz"
      },
      "execution_count": null,
      "outputs": []
    }
  ]
}